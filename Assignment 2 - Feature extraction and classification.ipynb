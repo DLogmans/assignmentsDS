{
 "cells": [
  {
   "cell_type": "markdown",
   "id": "609bcc26",
   "metadata": {},
   "source": [
    "# Assignment 2\n",
    "\n",
    "In this assignment, you will (1) extract global features from a publicly availabe dataset with one of the pre-trained neural networks available in pytorch, and (2) classify the dataset using the traditional k-Neural Neighbours classifier.\n",
    "\n",
    "You will be also asked to impelment k-fold cross-validation to evaluate your model."
   ]
  },
  {
   "cell_type": "markdown",
   "id": "70b394f7",
   "metadata": {},
   "source": [
    "------------------------"
   ]
  },
  {
   "cell_type": "code",
   "execution_count": null,
   "id": "eb4d6682",
   "metadata": {},
   "outputs": [],
   "source": [
    "# Load needed packages\n",
    "import torch\n",
    "import torchvision\n",
    "import torchvision.transforms as transforms\n",
    "import matplotlib.pyplot as plt\n",
    "import numpy as np"
   ]
  },
  {
   "cell_type": "markdown",
   "id": "6838957a",
   "metadata": {},
   "source": [
    "When working wiht Pytorch, dataloader() is a must to know function.\n",
    "\n",
    "Read more about this function and the parameters it accepts in https://blog.paperspace.com/dataloaders-abstractions-pytorch/ ;\n",
    "\n",
    "DataLoader(\n",
    "    dataset,\n",
    "    batch_size=1,\n",
    "    shuffle=False,\n",
    "    num_workers=0,\n",
    "    collate_fn=None,\n",
    "    pin_memory=False,\n",
    " )"
   ]
  },
  {
   "cell_type": "code",
   "execution_count": null,
   "id": "cb7db27a",
   "metadata": {},
   "outputs": [],
   "source": [
    "from torch.utils.data import DataLoader"
   ]
  },
  {
   "cell_type": "markdown",
   "id": "3b2320b0",
   "metadata": {},
   "source": [
    "The variable transform encapsulates the needed transformations of our data\n",
    "\n",
    "Read more about transforms in https://blog.paperspace.com/dataloaders-abstractions-pytorch/"
   ]
  },
  {
   "cell_type": "code",
   "execution_count": null,
   "id": "3f3daee7",
   "metadata": {},
   "outputs": [],
   "source": [
    "\n",
    "transform = transforms.Compose([\n",
    "    # resize\n",
    "    transforms.Resize(32),\n",
    "    # center-crop\n",
    "    transforms.CenterCrop(32),\n",
    "    # to-tensor\n",
    "    transforms.ToTensor(),\n",
    "    # normalize\n",
    "    transforms.Normalize([0.5, 0.5, 0.5], [0.5, 0.5, 0.5])\n",
    "])"
   ]
  },
  {
   "cell_type": "markdown",
   "id": "298ea732",
   "metadata": {},
   "source": [
    "Load your dataset"
   ]
  },
  {
   "cell_type": "code",
   "execution_count": null,
   "id": "53bb75cf",
   "metadata": {},
   "outputs": [],
   "source": [
    "# Example solution for the CIFAR dataset \n",
    "# Information about the dataset\n",
    "dataset = 'CIFAR10'\n",
    "classes = ('plane', 'car', 'bird', \n",
    "           'cat','deer', 'dog', 'frog', \n",
    "           'horse', 'ship', 'truck')\n",
    "\n",
    "\n",
    "dataset = torchvision.datasets.CIFAR10(root='./data', train=True,\n",
    "                                        download=True, transform=transform)\n",
    "\n",
    "dataloader = torch.utils.data.DataLoader(dataset, batch_size=4,\n",
    "                                          shuffle=False)"
   ]
  },
  {
   "cell_type": "markdown",
   "id": "032fccdb",
   "metadata": {},
   "source": [
    "## Exercise: RGB feature extraction\n",
    "\n",
    "Extract RGB values from the image as three lists. Concatenate those 3 lists createing a 1-D feature vector. This feature vectos is the descriptor of your image."
   ]
  },
  {
   "cell_type": "code",
   "execution_count": null,
   "id": "9f654967",
   "metadata": {},
   "outputs": [],
   "source": [
    "# Solution goes here"
   ]
  },
  {
   "cell_type": "markdown",
   "id": "a35ccf98",
   "metadata": {},
   "source": []
  },
  {
   "cell_type": "markdown",
   "id": "51372d11",
   "metadata": {},
   "source": [
    "## Exercise: Feature extraction using pre-traind networks\n",
    "\n",
    "Load pretrained a network to extract global features from the images. \n",
    "We will use the values of the last fully connected layer of the deep network as a descriptor, i.e. we will remove the last fully-connected layer. Therefore, after feed-fowarding the input throught the network, we save the output as the descriptor of the image.\n",
    "\n",
    "You can use different networks for this purpose."
   ]
  },
  {
   "cell_type": "code",
   "execution_count": null,
   "id": "8e04373c",
   "metadata": {},
   "outputs": [],
   "source": [
    "import torch.nn as nn\n",
    "from torchvision import models\n",
    "\n",
    "# name of the model you wish to use and must be selected from this list\n",
    "# [resnet, alexnet, vgg, squeezenet, densenet, inception]"
   ]
  },
  {
   "cell_type": "code",
   "execution_count": null,
   "id": "ff9cf33a",
   "metadata": {},
   "outputs": [],
   "source": [
    "# Solution:\n",
    "import torch.nn as nn\n",
    "from torchvision import models\n",
    "\n",
    "# Load model\n",
    "model = models.resnet18(pretrained=True)\n",
    "\n",
    "# Remove last fully-connected layer\n",
    "new_classifier = nn.Sequential(*list(model.classifier.children())[:-1])\n",
    "model.classifier = new_classifier\n",
    "\n",
    "# Iterate over the images extracting features\n",
    "extracted_features= []\n",
    "for sample in dataloader:\n",
    "    extracted_features.append(model(sample))\n",
    "    \n",
    "# save extracted features\n",
    "np.save(extracted_features,'extracted_features' + dataset)"
   ]
  },
  {
   "cell_type": "markdown",
   "id": "04c8e832",
   "metadata": {},
   "source": [
    "------------------------"
   ]
  },
  {
   "cell_type": "markdown",
   "id": "cb189026",
   "metadata": {},
   "source": [
    "## Exercise: Dataset preparation"
   ]
  },
  {
   "cell_type": "markdown",
   "id": "c0d1a591",
   "metadata": {},
   "source": [
    "Optional - to also evaluate the features you extracted in Assignment 1 "
   ]
  },
  {
   "cell_type": "code",
   "execution_count": null,
   "id": "37668dd6",
   "metadata": {},
   "outputs": [],
   "source": [
    "# Optional (and interesting!): Reusing the extracted RGB features in the previous assignment\n",
    "RGBfeatures = np.load('datasetRGB.npy')\n",
    "RGBfeatures = shuffle(RGBfeatures)\n",
    "\n",
    "print('Number of samples: ',len(RGBfeatures))"
   ]
  },
  {
   "cell_type": "markdown",
   "id": "e57aaaa8",
   "metadata": {},
   "source": [
    "### Train - Test Split\n",
    "\n",
    "Write a function **train_test_split(dataset, ratio)** which takes a dataset as an input and returns two datasets one for training and another for testing.\n"
   ]
  },
  {
   "cell_type": "code",
   "execution_count": null,
   "id": "f6b5f5e5",
   "metadata": {},
   "outputs": [],
   "source": [
    "def train_test_split(dataset, ratio):\n",
    "    ...\n",
    "    return training_data,testing_data"
   ]
  },
  {
   "cell_type": "code",
   "execution_count": null,
   "id": "8ecdf8ee",
   "metadata": {},
   "outputs": [],
   "source": [
    "# Solution Numpy version:\n",
    "def train_test_split(dataset, ratio):\n",
    "    print('Total number of samples:', len(dataset))\n",
    "    i = int((1-ratio)* len(dataset))\n",
    "    train_dataset = dataset[:i,:] \n",
    "    test_dataset = dataset[i:,:]\n",
    "    print('Samples Train:', len(train_dataset))\n",
    "    print('Samples Test:', len(test_dataset))\n",
    "    return train_dataset,test_dataset"
   ]
  },
  {
   "cell_type": "markdown",
   "id": "99ababa4",
   "metadata": {},
   "source": [
    "--------------------------------"
   ]
  },
  {
   "cell_type": "markdown",
   "id": "86a59fdf",
   "metadata": {},
   "source": [
    "## Exercise: Performance evaluation\n",
    "\n",
    "Implement a function to evaluate the accuracy of your prediction. \n",
    "We will rely on the evalution metric accuracy."
   ]
  },
  {
   "cell_type": "code",
   "execution_count": null,
   "id": "3677bda7",
   "metadata": {},
   "outputs": [],
   "source": [
    "def accuracy_metric(actual, predicted):\n",
    "    ...\n",
    "    return accuracy_value"
   ]
  },
  {
   "cell_type": "code",
   "execution_count": null,
   "id": "5d3181b7",
   "metadata": {},
   "outputs": [],
   "source": [
    "# Solution:\n",
    "def accuracy_metric(actual, predicted):\n",
    "    correct = 0\n",
    "    for i in range(len(actual)):\n",
    "        if actual[i] == predicted[i]:\n",
    "            correct += 1\n",
    "    return correct / float(len(actual)) * 100.0"
   ]
  },
  {
   "cell_type": "markdown",
   "id": "549727ac",
   "metadata": {},
   "source": [
    "--------------------------------"
   ]
  },
  {
   "cell_type": "markdown",
   "id": "ab251607",
   "metadata": {},
   "source": [
    "## Exercise: Train and test your Nearest Neighbour model\n",
    "\n",
    "Apply the classifier with different values of k (number of nearest neighbours) to the two set of previously extracted descriptors (RGB and CNN features) and evaluate the performance of your models (accuracy).\n",
    "\n",
    "You can have a look at the documentation to understand the parameters that define the learning of the model,\n",
    "https://scikit-learn.org/stable/modules/neighbors.html\n"
   ]
  },
  {
   "cell_type": "markdown",
   "id": "7d6a6d6a",
   "metadata": {},
   "source": [
    "#### a) Train and Test your model - Assess and show the performance of your model"
   ]
  },
  {
   "cell_type": "code",
   "execution_count": null,
   "id": "1470832c",
   "metadata": {},
   "outputs": [],
   "source": [
    "from sklearn.neighbors import NearestNeighbors\n",
    "import numpy as np"
   ]
  },
  {
   "cell_type": "code",
   "execution_count": null,
   "id": "b90aba2a",
   "metadata": {},
   "outputs": [],
   "source": [
    "# Use your k-NN - play with the value of the parameters to see how the model performs\n",
    "kvalue_list = [2,4,10] \n",
    "for kvalue in kvalue_list:\n",
    "    ...\n",
    "    print('Accuracy of the model is ', acc)"
   ]
  },
  {
   "cell_type": "code",
   "execution_count": null,
   "id": "b732256b",
   "metadata": {},
   "outputs": [],
   "source": [
    "# Solution:\n",
    "\n",
    "kvalue_list = [2,4,10]\n",
    "for kvalue in kvalue_list:\n",
    "    \n",
    "    knn = KNeighborsClassifier(n_neighbors=kvalue, metric='euclidean')\n",
    "    knn.fit(train_features, train_labels)\n",
    "    \n",
    "    for sample in test_data_\n",
    "        test_pred.append(knn.predict(test_features))\n",
    "    \n",
    "    acc = accuracy_metric(test_labels, test_pred)\n",
    "    \n",
    "    print('Accuracy of the model is ', acc)"
   ]
  },
  {
   "cell_type": "markdown",
   "id": "6a0acdc2",
   "metadata": {},
   "source": [
    "#### b) Visualize resutls \n",
    "\n",
    "Steps to follow:\n",
    "\n",
    "1) Apply PCA and select the 2 first principal components to represent each sample.\n",
    "\n",
    "2) Plot the samples with dots. Use a color per class. \n",
    "\n",
    "3) Plot the samples again but with empty filled circles. Use the color of the class predicted per sample (misclassifications will make the colors to not coincide).\n",
    "\n",
    "You can do this for (1) training and (2) test set. In (1) you can see how well the method fits to the training data and (2) will give you an idea of the missclassifications."
   ]
  },
  {
   "cell_type": "code",
   "execution_count": null,
   "id": "c5c1cc4c",
   "metadata": {},
   "outputs": [],
   "source": [
    "# your code here"
   ]
  },
  {
   "cell_type": "code",
   "execution_count": null,
   "id": "79d2b391",
   "metadata": {},
   "outputs": [],
   "source": []
  },
  {
   "cell_type": "markdown",
   "id": "e77cbfb5",
   "metadata": {},
   "source": [
    "## Exercise: k-Fold cross validation\n",
    "\n",
    "Assess the performance of your implemented Neural network using k-Fold cross validation. \n",
    "\n",
    "Remember that, for each fold, the network weights need to be initialized. \n",
    "\n",
    "Run your implemented function evaluating for k = 2, 5 and 10. You are also suggested to implement the leave-one-out strategy. Report the average accuracy and the standard deviation."
   ]
  },
  {
   "cell_type": "code",
   "execution_count": null,
   "id": "3f603d90",
   "metadata": {},
   "outputs": [],
   "source": [
    "# Load packages\n",
    "from sklearn.model_selection import KFold\n",
    "import numpy as np\n",
    "from sklearn.utils import shuffle\n",
    "from sklearn.svm import SVC\n",
    "\n",
    "dataset = np.load('extracted_features' + dataset + '.npy')\n",
    "dataset = shuffle(dataset)\n",
    "\n",
    "# K fold parameters\n",
    "N = len(dataset)\n",
    "k_list = [2,5,10]"
   ]
  },
  {
   "cell_type": "code",
   "execution_count": null,
   "id": "6280ec8a",
   "metadata": {},
   "outputs": [],
   "source": [
    "# Solution:\n",
    "\n",
    "avg_acc_list,std_list= [],[]\n",
    "for k in k_list:\n",
    "    print(' ')\n",
    "    print(' ')\n",
    "    print(\"Running experiments for k = \", k)\n",
    "    print(' ')\n",
    "    kf = KFold(n_splits=k)\n",
    "    kf.get_n_splits(dataset)\n",
    "    \n",
    "    folds_acc= []\n",
    "    for train_index, test_index in kf.split(dataset):\n",
    "\n",
    "      \n",
    "        # prepare data\n",
    "        train_dataset = dataset[train_index,:]\n",
    "        test_dataset  = dataset[test_index,:]\n",
    "        \n",
    "        print('# train:',len(train_dataset))\n",
    "        print('# test:',len(test_dataset))\n",
    "        print(' ')\n",
    "        \n",
    "        clf = make_pipeline(StandardScaler(), LinearSVC(random_state=0, tol=1e-5))\n",
    "        \n",
    "        # Train network\n",
    "        clf.fit(X, y)\n",
    "        \n",
    "\n",
    "        # Make a prediction with a network\n",
    "        predicted,gt = [],[]\n",
    "        for row in test_dataset:\n",
    "            prediction = predict(network, row)\n",
    "            gt.append(row[-1])\n",
    "            print('Expected=%d, Got=%d' % (row[-1], prediction))\n",
    "\n",
    "            if prediction>0.5: # value we set to accept a prediction as true\n",
    "                predicted.append(1)\n",
    "            else:\n",
    "                predicted.append(0)\n",
    "\n",
    "        # Assess performance network\n",
    "        accuracy_value = accuracy_metric(gt, predicted)\n",
    "        print('Accuracy on test data = ', (accuracy_value),'%')   \n",
    "        folds_acc.append(accuracy_value)\n",
    "    # Accumulate results tree\n",
    "    avg_acc_list.append(folds_acc)\n",
    "    print('-------                 -------                 -------                 -------')\n",
    "    print(' ')\n",
    "    print('            -------                 -------                 -------            ')\n",
    "    print(' ')\n",
    "    print('-------                 -------                 -------                 -------')"
   ]
  },
  {
   "cell_type": "code",
   "execution_count": null,
   "id": "32bfbc78",
   "metadata": {},
   "outputs": [],
   "source": [
    "print('Summary results:')\n",
    "print(' ')\n",
    "print(' ')\n",
    "for i,k in enumerate(k_list):\n",
    "    print(k,'-fold cross validation:')  \n",
    "    print('Accuracies per fold: ', avg_acc_list[i]) \n",
    "    \n",
    "    avg_acc = round(sum(avg_acc_list[i])/k,2)\n",
    "    std_list= round(np.std(avg_acc_list[i]),2)\n",
    "    print('Average accuracy: ', avg_acc,'+-', std_list) \n",
    "    print(' ')"
   ]
  },
  {
   "cell_type": "markdown",
   "id": "2fcf70eb",
   "metadata": {},
   "source": [
    "### Extra possible exercises: \n",
    "- implement other classifiers, \n",
    "- extract other descriptors from the images,\n",
    "- implement ohter evlauiton metrics: recall, precission and f-score."
   ]
  },
  {
   "cell_type": "code",
   "execution_count": null,
   "id": "37ff6e86",
   "metadata": {},
   "outputs": [],
   "source": []
  }
 ],
 "metadata": {
  "kernelspec": {
   "display_name": "Python 3 (ipykernel)",
   "language": "python",
   "name": "python3"
  },
  "language_info": {
   "codemirror_mode": {
    "name": "ipython",
    "version": 3
   },
   "file_extension": ".py",
   "mimetype": "text/x-python",
   "name": "python",
   "nbconvert_exporter": "python",
   "pygments_lexer": "ipython3",
   "version": "3.9.7"
  }
 },
 "nbformat": 4,
 "nbformat_minor": 5
}
